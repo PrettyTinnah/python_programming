{
 "cells": [
  {
   "cell_type": "markdown",
   "id": "556477cf",
   "metadata": {},
   "source": [
    "\n",
    "# Data Analysis and Visualization Assignment\n",
    "\n",
    "**Objective:**  \n",
    "- Load and analyze a dataset using the pandas library in Python.  \n",
    "- Create simple plots and charts with the matplotlib library for visualizing the data.  \n"
   ]
  },
  {
   "cell_type": "markdown",
   "id": "24f702a3",
   "metadata": {},
   "source": [
    "## Task 1: Load and Explore the Dataset"
   ]
  },
  {
   "cell_type": "code",
   "execution_count": null,
   "id": "eeb13009",
   "metadata": {},
   "outputs": [],
   "source": [
    "\n",
    "import pandas as pd\n",
    "import matplotlib.pyplot as plt\n",
    "import seaborn as sns\n",
    "from sklearn.datasets import load_iris\n",
    "\n",
    "# Load dataset with error handling\n",
    "try:\n",
    "    iris = load_iris(as_frame=True)\n",
    "    df = iris.frame  # Convert to pandas DataFrame\n",
    "    print(\"Dataset loaded successfully!\\n\")\n",
    "except FileNotFoundError:\n",
    "    print(\"Error: Dataset file not found.\")\n",
    "except Exception as e:\n",
    "    print(f\"An error occurred: {e}\")\n",
    "\n",
    "# Display first few rows\n",
    "print(\"First 5 rows:\")\n",
    "print(df.head(), \"\\n\")\n",
    "\n",
    "# Dataset info\n",
    "print(\"Data Types and Null Values:\")\n",
    "print(df.info(), \"\\n\")\n",
    "\n",
    "# Check for missing values\n",
    "print(\"Missing Values:\")\n",
    "print(df.isnull().sum(), \"\\n\")\n",
    "\n",
    "# Clean dataset (if missing values existed)\n",
    "df = df.dropna()\n"
   ]
  },
  {
   "cell_type": "markdown",
   "id": "14419332",
   "metadata": {},
   "source": [
    "## Task 2: Basic Data Analysis"
   ]
  },
  {
   "cell_type": "code",
   "execution_count": null,
   "id": "01f3e3eb",
   "metadata": {},
   "outputs": [],
   "source": [
    "\n",
    "# Basic statistics\n",
    "print(\"Descriptive Statistics:\")\n",
    "print(df.describe(), \"\\n\")\n",
    "\n",
    "# Group by species and compute mean\n",
    "print(\"Mean values per species:\")\n",
    "print(df.groupby(\"target\").mean(), \"\\n\")\n",
    "\n",
    "# Add species names for better readability\n",
    "df[\"species\"] = df[\"target\"].map({i: name for i, name in enumerate(iris.target_names)})\n",
    "\n",
    "print(\"Interesting Finding:\")\n",
    "print(\"Setosa generally has smaller sepal and petal measurements compared to Virginica and Versicolor.\\n\")\n"
   ]
  },
  {
   "cell_type": "markdown",
   "id": "c0b2b139",
   "metadata": {},
   "source": [
    "## Task 3: Data Visualization"
   ]
  },
  {
   "cell_type": "code",
   "execution_count": null,
   "id": "73de8ad7",
   "metadata": {},
   "outputs": [],
   "source": [
    "\n",
    "# 1. Line chart: Trend of sepal length across dataset index\n",
    "plt.figure(figsize=(8,5))\n",
    "plt.plot(df.index, df[\"sepal length (cm)\"], label=\"Sepal Length\")\n",
    "plt.title(\"Line Chart: Sepal Length Trend\")\n",
    "plt.xlabel(\"Index\")\n",
    "plt.ylabel(\"Sepal Length (cm)\")\n",
    "plt.legend()\n",
    "plt.show()\n",
    "\n",
    "# 2. Bar chart: Average petal length per species\n",
    "plt.figure(figsize=(8,5))\n",
    "sns.barplot(x=\"species\", y=\"petal length (cm)\", data=df, ci=None)\n",
    "plt.title(\"Bar Chart: Avg Petal Length per Species\")\n",
    "plt.xlabel(\"Species\")\n",
    "plt.ylabel(\"Petal Length (cm)\")\n",
    "plt.show()\n",
    "\n",
    "# 3. Histogram: Distribution of sepal width\n",
    "plt.figure(figsize=(8,5))\n",
    "plt.hist(df[\"sepal width (cm)\"], bins=15, edgecolor=\"black\")\n",
    "plt.title(\"Histogram: Sepal Width Distribution\")\n",
    "plt.xlabel(\"Sepal Width (cm)\")\n",
    "plt.ylabel(\"Frequency\")\n",
    "plt.show()\n",
    "\n",
    "# 4. Scatter plot: Sepal length vs Petal length\n",
    "plt.figure(figsize=(8,5))\n",
    "sns.scatterplot(x=\"sepal length (cm)\", y=\"petal length (cm)\", hue=\"species\", data=df)\n",
    "plt.title(\"Scatter Plot: Sepal Length vs Petal Length\")\n",
    "plt.xlabel(\"Sepal Length (cm)\")\n",
    "plt.ylabel(\"Petal Length (cm)\")\n",
    "plt.legend(title=\"Species\")\n",
    "plt.show()\n"
   ]
  },
  {
   "cell_type": "markdown",
   "id": "4edd4c40",
   "metadata": {},
   "source": [
    "\n",
    "## Observations\n",
    "1. Sepal length shows a general upward trend across the dataset index.  \n",
    "2. Virginica species has the largest average petal length.  \n",
    "3. Sepal width is mostly distributed between 2.5 - 3.5 cm.  \n",
    "4. Sepal length and petal length are positively correlated, with clear separation among species.  \n"
   ]
  }
 ],
 "metadata": {},
 "nbformat": 4,
 "nbformat_minor": 5
}
